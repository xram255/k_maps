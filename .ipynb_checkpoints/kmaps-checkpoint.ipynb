{
 "cells": [
  {
   "cell_type": "code",
   "execution_count": 16,
   "metadata": {},
   "outputs": [
    {
     "name": "stdout",
     "output_type": "stream",
     "text": [
      "[['abcd', 'abcD', 'abCD', 'abCd'], ['aBcd', 'aBcD', 'aBCD', 'aBCd'], ['ABcd', 'ABcD', 'ABCD', 'ABCd'], ['Abcd', 'AbcD', 'AbCD', 'AbCd']]\n"
     ]
    }
   ],
   "source": [
    "kmap = [['abcd', 'abcD', 'abCD', 'abCd'],\n",
    "        ['aBcd', 'aBcD', 'aBCD', 'aBCd'],\n",
    "        ['ABcd', 'ABcD', 'ABCD', 'ABCd'],\n",
    "        ['Abcd', 'AbcD', 'AbCD', 'AbCd']\n",
    "       ]\n",
    "\n",
    "incr = 1\n",
    "\n",
    "if incr > 4:\n",
    "    incr = 1\n",
    "    \n",
    "print(kmap)"
   ]
  },
  {
   "cell_type": "code",
   "execution_count": null,
   "metadata": {},
   "outputs": [],
   "source": []
  }
 ],
 "metadata": {
  "kernelspec": {
   "display_name": "Python 3",
   "language": "python",
   "name": "python3"
  },
  "language_info": {
   "codemirror_mode": {
    "name": "ipython",
    "version": 3
   },
   "file_extension": ".py",
   "mimetype": "text/x-python",
   "name": "python",
   "nbconvert_exporter": "python",
   "pygments_lexer": "ipython3",
   "version": "3.8.1"
  }
 },
 "nbformat": 4,
 "nbformat_minor": 4
}
