{
 "cells": [
  {
   "cell_type": "code",
   "execution_count": 24,
   "metadata": {},
   "outputs": [
    {
     "data": {
      "text/plain": [
       "[['abcd', 'abcD', 'abCD', 'abCd'],\n",
       " ['aBcd', 'aBcD', 'aBCD', 'aBCd'],\n",
       " ['ABcd', 'ABcD', 'ABCD', 'ABCd'],\n",
       " ['Abcd', 'AbcD', 'AbCD', 'AbCd']]"
      ]
     },
     "execution_count": 24,
     "metadata": {},
     "output_type": "execute_result"
    }
   ],
   "source": [
    "\n",
    "kmap = [['abcd', 'abcD', 'abCD', 'abCd'],\n",
    "        ['aBcd', 'aBcD', 'aBCD', 'aBCd'],\n",
    "        ['ABcd', 'ABcD', 'ABCD', 'ABCd'],\n",
    "        ['Abcd', 'AbcD', 'AbCD', 'AbCd']\n",
    "       ]\n",
    "\n",
    "kmap"
   ]
  },
  {
   "cell_type": "code",
   "execution_count": 31,
   "metadata": {},
   "outputs": [
    {
     "data": {
      "text/plain": [
       "4"
      ]
     },
     "execution_count": 31,
     "metadata": {},
     "output_type": "execute_result"
    }
   ],
   "source": [
    "import numpy as np\n",
    "\n",
    "a = np.matrix('1, 2; 3, 4')\n",
    "\n",
    "a[1,1]"
   ]
  },
  {
   "cell_type": "code",
   "execution_count": null,
   "metadata": {},
   "outputs": [],
   "source": []
  }
 ],
 "metadata": {
  "kernelspec": {
   "display_name": "Python 3",
   "language": "python",
   "name": "python3"
  },
  "language_info": {
   "codemirror_mode": {
    "name": "ipython",
    "version": 3
   },
   "file_extension": ".py",
   "mimetype": "text/x-python",
   "name": "python",
   "nbconvert_exporter": "python",
   "pygments_lexer": "ipython3",
   "version": "3.8.1"
  }
 },
 "nbformat": 4,
 "nbformat_minor": 4
}
